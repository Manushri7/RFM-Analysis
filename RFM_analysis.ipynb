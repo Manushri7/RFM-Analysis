{
 "cells": [
  {
   "cell_type": "code",
   "execution_count": 1,
   "id": "ccc82f2e",
   "metadata": {},
   "outputs": [],
   "source": [
    "import pandas as pd\n",
    "import numpy as np"
   ]
  },
  {
   "cell_type": "code",
   "execution_count": 2,
   "id": "37aa4e34",
   "metadata": {},
   "outputs": [],
   "source": [
    "import warnings\n",
    "\n",
    "def fxn():\n",
    "    warnings.warn(\"deprecated\", DeprecationWarning)\n",
    "\n",
    "with warnings.catch_warnings():\n",
    "    warnings.simplefilter(\"ignore\")\n",
    "    fxn()"
   ]
  },
  {
   "cell_type": "code",
   "execution_count": 3,
   "id": "31823ec4",
   "metadata": {},
   "outputs": [],
   "source": [
    "df=pd.read_excel(\"d://new_jet.xlsx\")"
   ]
  },
  {
   "cell_type": "code",
   "execution_count": 4,
   "id": "51662e9a",
   "metadata": {},
   "outputs": [
    {
     "data": {
      "text/html": [
       "<div>\n",
       "<style scoped>\n",
       "    .dataframe tbody tr th:only-of-type {\n",
       "        vertical-align: middle;\n",
       "    }\n",
       "\n",
       "    .dataframe tbody tr th {\n",
       "        vertical-align: top;\n",
       "    }\n",
       "\n",
       "    .dataframe thead th {\n",
       "        text-align: right;\n",
       "    }\n",
       "</style>\n",
       "<table border=\"1\" class=\"dataframe\">\n",
       "  <thead>\n",
       "    <tr style=\"text-align: right;\">\n",
       "      <th></th>\n",
       "      <th>CustID</th>\n",
       "      <th>Name_First</th>\n",
       "      <th>Name_Last</th>\n",
       "      <th>Address</th>\n",
       "      <th>City</th>\n",
       "      <th>Postal</th>\n",
       "      <th>Phone</th>\n",
       "      <th>Type</th>\n",
       "      <th>Num_Games</th>\n",
       "      <th>Avg_Seats</th>\n",
       "      <th>Tot_Sales</th>\n",
       "      <th>LastTransYear</th>\n",
       "      <th>LastTransMonth</th>\n",
       "      <th>Sex</th>\n",
       "      <th>Income</th>\n",
       "      <th>Marital Status</th>\n",
       "      <th>Age</th>\n",
       "      <th>Fan Club Member</th>\n",
       "      <th>Automobile</th>\n",
       "      <th>Subscription</th>\n",
       "    </tr>\n",
       "  </thead>\n",
       "  <tbody>\n",
       "    <tr>\n",
       "      <th>0</th>\n",
       "      <td>1</td>\n",
       "      <td>C</td>\n",
       "      <td>Dale</td>\n",
       "      <td>92 Concord Cres</td>\n",
       "      <td>London</td>\n",
       "      <td>N6G1X8</td>\n",
       "      <td>519471-1712</td>\n",
       "      <td>Personal</td>\n",
       "      <td>3</td>\n",
       "      <td>3</td>\n",
       "      <td>630</td>\n",
       "      <td>2001</td>\n",
       "      <td>2</td>\n",
       "      <td>Male</td>\n",
       "      <td>57819.0</td>\n",
       "      <td>Single</td>\n",
       "      <td>40.0</td>\n",
       "      <td>0.0</td>\n",
       "      <td>1.0</td>\n",
       "      <td>Free Press</td>\n",
       "    </tr>\n",
       "    <tr>\n",
       "      <th>1</th>\n",
       "      <td>2</td>\n",
       "      <td>A</td>\n",
       "      <td>Gill</td>\n",
       "      <td>11 Kingspark Cres</td>\n",
       "      <td>London</td>\n",
       "      <td>N6A5B9</td>\n",
       "      <td>519858-4812</td>\n",
       "      <td>Personal</td>\n",
       "      <td>1</td>\n",
       "      <td>2</td>\n",
       "      <td>140</td>\n",
       "      <td>2000</td>\n",
       "      <td>9</td>\n",
       "      <td>Male</td>\n",
       "      <td>71938.0</td>\n",
       "      <td>Single</td>\n",
       "      <td>44.0</td>\n",
       "      <td>0.0</td>\n",
       "      <td>1.0</td>\n",
       "      <td>NaN</td>\n",
       "    </tr>\n",
       "    <tr>\n",
       "      <th>2</th>\n",
       "      <td>3</td>\n",
       "      <td>D</td>\n",
       "      <td>Rodriguez</td>\n",
       "      <td>300 Dundas St</td>\n",
       "      <td>London</td>\n",
       "      <td>N6J4Y5</td>\n",
       "      <td>519685-3997</td>\n",
       "      <td>Personal</td>\n",
       "      <td>1</td>\n",
       "      <td>2</td>\n",
       "      <td>50</td>\n",
       "      <td>2001</td>\n",
       "      <td>10</td>\n",
       "      <td>Male</td>\n",
       "      <td>23891.0</td>\n",
       "      <td>Married</td>\n",
       "      <td>24.0</td>\n",
       "      <td>0.0</td>\n",
       "      <td>1.0</td>\n",
       "      <td>NaN</td>\n",
       "    </tr>\n",
       "  </tbody>\n",
       "</table>\n",
       "</div>"
      ],
      "text/plain": [
       "   CustID Name_First  Name_Last               Address    City  Postal  \\\n",
       "0       1          C       Dale    92 Concord Cres     London  N6G1X8   \n",
       "1       2          A       Gill  11 Kingspark Cres     London  N6A5B9   \n",
       "2       3          D  Rodriguez      300 Dundas St     London  N6J4Y5   \n",
       "\n",
       "         Phone      Type  Num_Games  Avg_Seats  Tot_Sales  LastTransYear  \\\n",
       "0  519471-1712  Personal          3          3        630           2001   \n",
       "1  519858-4812  Personal          1          2        140           2000   \n",
       "2  519685-3997  Personal          1          2         50           2001   \n",
       "\n",
       "   LastTransMonth   Sex   Income Marital Status   Age  Fan Club Member  \\\n",
       "0               2  Male  57819.0         Single  40.0              0.0   \n",
       "1               9  Male  71938.0         Single  44.0              0.0   \n",
       "2              10  Male  23891.0        Married  24.0              0.0   \n",
       "\n",
       "   Automobile Subscription  \n",
       "0         1.0   Free Press  \n",
       "1         1.0          NaN  \n",
       "2         1.0          NaN  "
      ]
     },
     "execution_count": 4,
     "metadata": {},
     "output_type": "execute_result"
    }
   ],
   "source": [
    "df.head(3)"
   ]
  },
  {
   "cell_type": "code",
   "execution_count": 5,
   "id": "31f87d38",
   "metadata": {},
   "outputs": [
    {
     "data": {
      "text/plain": [
       "(3000, 20)"
      ]
     },
     "execution_count": 5,
     "metadata": {},
     "output_type": "execute_result"
    }
   ],
   "source": [
    "df.shape"
   ]
  },
  {
   "cell_type": "code",
   "execution_count": 6,
   "id": "e4fcbf09",
   "metadata": {},
   "outputs": [
    {
     "data": {
      "text/plain": [
       "CustID                0\n",
       "Name_First          533\n",
       "Name_Last             0\n",
       "Address             773\n",
       "City                129\n",
       "Postal              140\n",
       "Phone               129\n",
       "Type                  0\n",
       "Num_Games             0\n",
       "Avg_Seats             0\n",
       "Tot_Sales             0\n",
       "LastTransYear         0\n",
       "LastTransMonth        0\n",
       "Sex                   0\n",
       "Income              528\n",
       "Marital Status      528\n",
       "Age                 528\n",
       "Fan Club Member     528\n",
       "Automobile          528\n",
       "Subscription       2140\n",
       "dtype: int64"
      ]
     },
     "execution_count": 6,
     "metadata": {},
     "output_type": "execute_result"
    }
   ],
   "source": [
    "df.isnull().sum()"
   ]
  },
  {
   "cell_type": "code",
   "execution_count": 7,
   "id": "8f5e7b85",
   "metadata": {},
   "outputs": [
    {
     "data": {
      "text/plain": [
       "London         2854\n",
       "Hyde Park         3\n",
       "Lodnon            2\n",
       "Brampton          2\n",
       "Mississauga       2\n",
       "Ingersoll         2\n",
       "Toronto           2\n",
       "Hamilton          1\n",
       "Hagersville       1\n",
       "Landon            1\n",
       "York              1\n",
       "Name: City, dtype: int64"
      ]
     },
     "execution_count": 7,
     "metadata": {},
     "output_type": "execute_result"
    }
   ],
   "source": [
    "df.City.value_counts()"
   ]
  },
  {
   "cell_type": "code",
   "execution_count": 8,
   "id": "3b068333",
   "metadata": {},
   "outputs": [
    {
     "data": {
      "text/plain": [
       "<AxesSubplot:>"
      ]
     },
     "execution_count": 8,
     "metadata": {},
     "output_type": "execute_result"
    },
    {
     "data": {
      "image/png": "[encoded data removed]",
      "text/plain": [
       "<Figure size 432x288 with 1 Axes>"
      ]
     },
     "metadata": {
      "needs_background": "light"
     },
     "output_type": "display_data"
    }
   ],
   "source": [
    "df.City.value_counts().plot(kind='line')"
   ]
  },
  {
   "cell_type": "code",
   "execution_count": 9,
   "id": "526f1dc7",
   "metadata": {},
   "outputs": [
    {
     "data": {
      "text/plain": [
       "Index(['CustID', 'Name_First', 'Name_Last', 'Address', 'City', 'Postal',\n",
       "       'Phone', 'Type', 'Num_Games', 'Avg_Seats', 'Tot_Sales', 'LastTransYear',\n",
       "       'LastTransMonth', 'Sex', 'Income', 'Marital Status', 'Age',\n",
       "       'Fan Club Member', 'Automobile', 'Subscription'],\n",
       "      dtype='object')"
      ]
     },
     "execution_count": 9,
     "metadata": {},
     "output_type": "execute_result"
    }
   ],
   "source": [
    "df.columns"
   ]
  },
  {
   "cell_type": "code",
   "execution_count": 10,
   "id": "afe73151",
   "metadata": {},
   "outputs": [],
   "source": [
    "df['City'] = df['City'].replace(['Landon' , 'Lodnon'], 'London')"
   ]
  },
  {
   "cell_type": "code",
   "execution_count": 11,
   "id": "1778f7e0",
   "metadata": {},
   "outputs": [
    {
     "data": {
      "text/plain": [
       "London         2857\n",
       "Hyde Park         3\n",
       "Brampton          2\n",
       "Mississauga       2\n",
       "Ingersoll         2\n",
       "Toronto           2\n",
       "Hamilton          1\n",
       "Hagersville       1\n",
       "York              1\n",
       "Name: City, dtype: int64"
      ]
     },
     "execution_count": 11,
     "metadata": {},
     "output_type": "execute_result"
    }
   ],
   "source": [
    "df.City.value_counts()"
   ]
  },
  {
   "cell_type": "code",
   "execution_count": 12,
   "id": "ef17f938",
   "metadata": {},
   "outputs": [],
   "source": [
    "data= df[df['City']=='London']"
   ]
  },
  {
   "cell_type": "code",
   "execution_count": 13,
   "id": "f24c4c3c",
   "metadata": {},
   "outputs": [
    {
     "data": {
      "text/html": [
       "<div>\n",
       "<style scoped>\n",
       "    .dataframe tbody tr th:only-of-type {\n",
       "        vertical-align: middle;\n",
       "    }\n",
       "\n",
       "    .dataframe tbody tr th {\n",
       "        vertical-align: top;\n",
       "    }\n",
       "\n",
       "    .dataframe thead th {\n",
       "        text-align: right;\n",
       "    }\n",
       "</style>\n",
       "<table border=\"1\" class=\"dataframe\">\n",
       "  <thead>\n",
       "    <tr style=\"text-align: right;\">\n",
       "      <th></th>\n",
       "      <th>CustID</th>\n",
       "      <th>Name_First</th>\n",
       "      <th>Name_Last</th>\n",
       "      <th>Address</th>\n",
       "      <th>City</th>\n",
       "      <th>Postal</th>\n",
       "      <th>Phone</th>\n",
       "      <th>Type</th>\n",
       "      <th>Num_Games</th>\n",
       "      <th>Avg_Seats</th>\n",
       "      <th>Tot_Sales</th>\n",
       "      <th>LastTransYear</th>\n",
       "      <th>LastTransMonth</th>\n",
       "      <th>Sex</th>\n",
       "      <th>Income</th>\n",
       "      <th>Marital Status</th>\n",
       "      <th>Age</th>\n",
       "      <th>Fan Club Member</th>\n",
       "      <th>Automobile</th>\n",
       "      <th>Subscription</th>\n",
       "    </tr>\n",
       "  </thead>\n",
       "  <tbody>\n",
       "    <tr>\n",
       "      <th>0</th>\n",
       "      <td>1</td>\n",
       "      <td>C</td>\n",
       "      <td>Dale</td>\n",
       "      <td>92 Concord Cres</td>\n",
       "      <td>London</td>\n",
       "      <td>N6G1X8</td>\n",
       "      <td>519471-1712</td>\n",
       "      <td>Personal</td>\n",
       "      <td>3</td>\n",
       "      <td>3</td>\n",
       "      <td>630</td>\n",
       "      <td>2001</td>\n",
       "      <td>2</td>\n",
       "      <td>Male</td>\n",
       "      <td>57819.0</td>\n",
       "      <td>Single</td>\n",
       "      <td>40.0</td>\n",
       "      <td>0.0</td>\n",
       "      <td>1.0</td>\n",
       "      <td>Free Press</td>\n",
       "    </tr>\n",
       "    <tr>\n",
       "      <th>1</th>\n",
       "      <td>2</td>\n",
       "      <td>A</td>\n",
       "      <td>Gill</td>\n",
       "      <td>11 Kingspark Cres</td>\n",
       "      <td>London</td>\n",
       "      <td>N6A5B9</td>\n",
       "      <td>519858-4812</td>\n",
       "      <td>Personal</td>\n",
       "      <td>1</td>\n",
       "      <td>2</td>\n",
       "      <td>140</td>\n",
       "      <td>2000</td>\n",
       "      <td>9</td>\n",
       "      <td>Male</td>\n",
       "      <td>71938.0</td>\n",
       "      <td>Single</td>\n",
       "      <td>44.0</td>\n",
       "      <td>0.0</td>\n",
       "      <td>1.0</td>\n",
       "      <td>NaN</td>\n",
       "    </tr>\n",
       "    <tr>\n",
       "      <th>2</th>\n",
       "      <td>3</td>\n",
       "      <td>D</td>\n",
       "      <td>Rodriguez</td>\n",
       "      <td>300 Dundas St</td>\n",
       "      <td>London</td>\n",
       "      <td>N6J4Y5</td>\n",
       "      <td>519685-3997</td>\n",
       "      <td>Personal</td>\n",
       "      <td>1</td>\n",
       "      <td>2</td>\n",
       "      <td>50</td>\n",
       "      <td>2001</td>\n",
       "      <td>10</td>\n",
       "      <td>Male</td>\n",
       "      <td>23891.0</td>\n",
       "      <td>Married</td>\n",
       "      <td>24.0</td>\n",
       "      <td>0.0</td>\n",
       "      <td>1.0</td>\n",
       "      <td>NaN</td>\n",
       "    </tr>\n",
       "  </tbody>\n",
       "</table>\n",
       "</div>"
      ],
      "text/plain": [
       "   CustID Name_First  Name_Last               Address    City  Postal  \\\n",
       "0       1          C       Dale    92 Concord Cres     London  N6G1X8   \n",
       "1       2          A       Gill  11 Kingspark Cres     London  N6A5B9   \n",
       "2       3          D  Rodriguez      300 Dundas St     London  N6J4Y5   \n",
       "\n",
       "         Phone      Type  Num_Games  Avg_Seats  Tot_Sales  LastTransYear  \\\n",
       "0  519471-1712  Personal          3          3        630           2001   \n",
       "1  519858-4812  Personal          1          2        140           2000   \n",
       "2  519685-3997  Personal          1          2         50           2001   \n",
       "\n",
       "   LastTransMonth   Sex   Income Marital Status   Age  Fan Club Member  \\\n",
       "0               2  Male  57819.0         Single  40.0              0.0   \n",
       "1               9  Male  71938.0         Single  44.0              0.0   \n",
       "2              10  Male  23891.0        Married  24.0              0.0   \n",
       "\n",
       "   Automobile Subscription  \n",
       "0         1.0   Free Press  \n",
       "1         1.0          NaN  \n",
       "2         1.0          NaN  "
      ]
     },
     "execution_count": 13,
     "metadata": {},
     "output_type": "execute_result"
    }
   ],
   "source": [
    "data.head(3)"
   ]
  },
  {
   "cell_type": "code",
   "execution_count": 14,
   "id": "b4364135",
   "metadata": {},
   "outputs": [
    {
     "data": {
      "text/plain": [
       "(2857, 20)"
      ]
     },
     "execution_count": 14,
     "metadata": {},
     "output_type": "execute_result"
    }
   ],
   "source": [
    "data.shape"
   ]
  },
  {
   "cell_type": "code",
   "execution_count": 15,
   "id": "0b1fbeee",
   "metadata": {},
   "outputs": [
    {
     "data": {
      "text/plain": [
       "98.0"
      ]
     },
     "execution_count": 15,
     "metadata": {},
     "output_type": "execute_result"
    }
   ],
   "source": [
    "data.Income.min()"
   ]
  },
  {
   "cell_type": "code",
   "execution_count": 16,
   "id": "ded02ca9",
   "metadata": {},
   "outputs": [
    {
     "data": {
      "text/plain": [
       "25"
      ]
     },
     "execution_count": 16,
     "metadata": {},
     "output_type": "execute_result"
    }
   ],
   "source": [
    "data.Tot_Sales.min()"
   ]
  },
  {
   "cell_type": "code",
   "execution_count": 17,
   "id": "be93d9e4",
   "metadata": {},
   "outputs": [
    {
     "data": {
      "text/plain": [
       "CustID               int64\n",
       "Name_First          object\n",
       "Name_Last           object\n",
       "Address             object\n",
       "City                object\n",
       "Postal              object\n",
       "Phone               object\n",
       "Type                object\n",
       "Num_Games            int64\n",
       "Avg_Seats            int64\n",
       "Tot_Sales            int64\n",
       "LastTransYear        int64\n",
       "LastTransMonth       int64\n",
       "Sex                 object\n",
       "Income             float64\n",
       "Marital Status      object\n",
       "Age                float64\n",
       "Fan Club Member    float64\n",
       "Automobile         float64\n",
       "Subscription        object\n",
       "dtype: object"
      ]
     },
     "execution_count": 17,
     "metadata": {},
     "output_type": "execute_result"
    }
   ],
   "source": [
    "data.dtypes"
   ]
  },
  {
   "cell_type": "code",
   "execution_count": 18,
   "id": "5f11d436",
   "metadata": {},
   "outputs": [
    {
     "name": "stderr",
     "output_type": "stream",
     "text": [
      "C:\\Users\\User\\AppData\\Local\\Temp/ipykernel_16732/486610996.py:1: SettingWithCopyWarning: \n",
      "A value is trying to be set on a copy of a slice from a DataFrame.\n",
      "Try using .loc[row_indexer,col_indexer] = value instead\n",
      "\n",
      "See the caveats in the documentation: https://pandas.pydata.org/pandas-docs/stable/user_guide/indexing.html#returning-a-view-versus-a-copy\n",
      "  data['LastTransYear']=data['LastTransYear'].astype(str)\n"
     ]
    }
   ],
   "source": [
    "data['LastTransYear']=data['LastTransYear'].astype(str)"
   ]
  },
  {
   "cell_type": "code",
   "execution_count": 19,
   "id": "959438c3",
   "metadata": {},
   "outputs": [
    {
     "name": "stderr",
     "output_type": "stream",
     "text": [
      "C:\\Users\\User\\AppData\\Local\\Temp/ipykernel_16732/3308200066.py:1: SettingWithCopyWarning: \n",
      "A value is trying to be set on a copy of a slice from a DataFrame.\n",
      "Try using .loc[row_indexer,col_indexer] = value instead\n",
      "\n",
      "See the caveats in the documentation: https://pandas.pydata.org/pandas-docs/stable/user_guide/indexing.html#returning-a-view-versus-a-copy\n",
      "  data['LastTransMonth']=data['LastTransMonth'].astype(str)\n"
     ]
    }
   ],
   "source": [
    "data['LastTransMonth']=data['LastTransMonth'].astype(str)"
   ]
  },
  {
   "cell_type": "code",
   "execution_count": 20,
   "id": "1559f78f",
   "metadata": {},
   "outputs": [
    {
     "name": "stderr",
     "output_type": "stream",
     "text": [
      "C:\\Users\\User\\AppData\\Local\\Temp/ipykernel_16732/1830411532.py:1: SettingWithCopyWarning: \n",
      "A value is trying to be set on a copy of a slice from a DataFrame.\n",
      "Try using .loc[row_indexer,col_indexer] = value instead\n",
      "\n",
      "See the caveats in the documentation: https://pandas.pydata.org/pandas-docs/stable/user_guide/indexing.html#returning-a-view-versus-a-copy\n",
      "  data['new_year']=pd.to_datetime(data['LastTransYear']+\"/\"+ data['LastTransMonth'])\n"
     ]
    }
   ],
   "source": [
    "data['new_year']=pd.to_datetime(data['LastTransYear']+\"/\"+ data['LastTransMonth'])"
   ]
  },
  {
   "cell_type": "code",
   "execution_count": 21,
   "id": "2735f321",
   "metadata": {},
   "outputs": [
    {
     "name": "stderr",
     "output_type": "stream",
     "text": [
      "C:\\Users\\User\\anaconda3\\lib\\site-packages\\pandas\\core\\frame.py:4906: SettingWithCopyWarning: \n",
      "A value is trying to be set on a copy of a slice from a DataFrame\n",
      "\n",
      "See the caveats in the documentation: https://pandas.pydata.org/pandas-docs/stable/user_guide/indexing.html#returning-a-view-versus-a-copy\n",
      "  return super().drop(\n"
     ]
    }
   ],
   "source": [
    "data.drop(['LastTransYear','LastTransMonth'],axis=1,inplace=True)"
   ]
  },
  {
   "cell_type": "code",
   "execution_count": 22,
   "id": "459d8e99",
   "metadata": {},
   "outputs": [
    {
     "data": {
      "text/plain": [
       "Timestamp('2001-12-01 00:00:00')"
      ]
     },
     "execution_count": 22,
     "metadata": {},
     "output_type": "execute_result"
    }
   ],
   "source": [
    "data.new_year.max()"
   ]
  },
  {
   "cell_type": "code",
   "execution_count": 23,
   "id": "0efd3de5",
   "metadata": {},
   "outputs": [
    {
     "data": {
      "text/plain": [
       "'2001-12-02'"
      ]
     },
     "execution_count": 23,
     "metadata": {},
     "output_type": "execute_result"
    }
   ],
   "source": [
    "from datetime import date\n",
    "current_date= date(2001,12,2)\n",
    "current_date.strftime(\"%Y-%m-%d\")"
   ]
  },
  {
   "cell_type": "code",
   "execution_count": 24,
   "id": "4dd05e4d",
   "metadata": {},
   "outputs": [
    {
     "data": {
      "text/plain": [
       "datetime.date(2001, 12, 2)"
      ]
     },
     "execution_count": 24,
     "metadata": {},
     "output_type": "execute_result"
    }
   ],
   "source": [
    "current_date"
   ]
  },
  {
   "cell_type": "code",
   "execution_count": 25,
   "id": "944232ac",
   "metadata": {},
   "outputs": [],
   "source": [
    "data=data[['CustID', 'City', 'Num_Games', 'Avg_Seats', 'Tot_Sales', 'Income',\n",
    "        'Fan Club Member', 'Automobile','Subscription','new_year']]"
   ]
  },
  {
   "cell_type": "code",
   "execution_count": 26,
   "id": "96fe502d",
   "metadata": {},
   "outputs": [
    {
     "data": {
      "text/html": [
       "<div>\n",
       "<style scoped>\n",
       "    .dataframe tbody tr th:only-of-type {\n",
       "        vertical-align: middle;\n",
       "    }\n",
       "\n",
       "    .dataframe tbody tr th {\n",
       "        vertical-align: top;\n",
       "    }\n",
       "\n",
       "    .dataframe thead th {\n",
       "        text-align: right;\n",
       "    }\n",
       "</style>\n",
       "<table border=\"1\" class=\"dataframe\">\n",
       "  <thead>\n",
       "    <tr style=\"text-align: right;\">\n",
       "      <th></th>\n",
       "      <th>CustID</th>\n",
       "      <th>City</th>\n",
       "      <th>Num_Games</th>\n",
       "      <th>Avg_Seats</th>\n",
       "      <th>Tot_Sales</th>\n",
       "      <th>Income</th>\n",
       "      <th>Fan Club Member</th>\n",
       "      <th>Automobile</th>\n",
       "      <th>Subscription</th>\n",
       "      <th>new_year</th>\n",
       "    </tr>\n",
       "  </thead>\n",
       "  <tbody>\n",
       "    <tr>\n",
       "      <th>0</th>\n",
       "      <td>1</td>\n",
       "      <td>London</td>\n",
       "      <td>3</td>\n",
       "      <td>3</td>\n",
       "      <td>630</td>\n",
       "      <td>57819.0</td>\n",
       "      <td>0.0</td>\n",
       "      <td>1.0</td>\n",
       "      <td>Free Press</td>\n",
       "      <td>2001-02-01</td>\n",
       "    </tr>\n",
       "    <tr>\n",
       "      <th>1</th>\n",
       "      <td>2</td>\n",
       "      <td>London</td>\n",
       "      <td>1</td>\n",
       "      <td>2</td>\n",
       "      <td>140</td>\n",
       "      <td>71938.0</td>\n",
       "      <td>0.0</td>\n",
       "      <td>1.0</td>\n",
       "      <td>NaN</td>\n",
       "      <td>2000-09-01</td>\n",
       "    </tr>\n",
       "    <tr>\n",
       "      <th>2</th>\n",
       "      <td>3</td>\n",
       "      <td>London</td>\n",
       "      <td>1</td>\n",
       "      <td>2</td>\n",
       "      <td>50</td>\n",
       "      <td>23891.0</td>\n",
       "      <td>0.0</td>\n",
       "      <td>1.0</td>\n",
       "      <td>NaN</td>\n",
       "      <td>2001-10-01</td>\n",
       "    </tr>\n",
       "  </tbody>\n",
       "</table>\n",
       "</div>"
      ],
      "text/plain": [
       "   CustID    City  Num_Games  Avg_Seats  Tot_Sales   Income  Fan Club Member  \\\n",
       "0       1  London          3          3        630  57819.0              0.0   \n",
       "1       2  London          1          2        140  71938.0              0.0   \n",
       "2       3  London          1          2         50  23891.0              0.0   \n",
       "\n",
       "   Automobile Subscription   new_year  \n",
       "0         1.0   Free Press 2001-02-01  \n",
       "1         1.0          NaN 2000-09-01  \n",
       "2         1.0          NaN 2001-10-01  "
      ]
     },
     "execution_count": 26,
     "metadata": {},
     "output_type": "execute_result"
    }
   ],
   "source": [
    "data.head(3)"
   ]
  },
  {
   "cell_type": "code",
   "execution_count": 27,
   "id": "d7797d71",
   "metadata": {},
   "outputs": [],
   "source": [
    "data['current_data']=current_date"
   ]
  },
  {
   "cell_type": "code",
   "execution_count": 28,
   "id": "dad006d0",
   "metadata": {},
   "outputs": [],
   "source": [
    "data[['new_year','current_data']] = data[['new_year','current_data']].apply(pd.to_datetime)\n",
    "\n"
   ]
  },
  {
   "cell_type": "code",
   "execution_count": 29,
   "id": "ac6536f1",
   "metadata": {},
   "outputs": [],
   "source": [
    "#calculate difference between dates\n",
    "data['Recency'] = (data['current_data'] - data['new_year']) / np.timedelta64(1, 'D')"
   ]
  },
  {
   "cell_type": "code",
   "execution_count": 30,
   "id": "46605752",
   "metadata": {},
   "outputs": [],
   "source": [
    "data['Recency']=data['Recency'].astype(int)"
   ]
  },
  {
   "cell_type": "code",
   "execution_count": null,
   "id": "261c77c6",
   "metadata": {},
   "outputs": [],
   "source": []
  },
  {
   "cell_type": "code",
   "execution_count": 31,
   "id": "7095260e",
   "metadata": {},
   "outputs": [
    {
     "data": {
      "text/html": [
       "<div>\n",
       "<style scoped>\n",
       "    .dataframe tbody tr th:only-of-type {\n",
       "        vertical-align: middle;\n",
       "    }\n",
       "\n",
       "    .dataframe tbody tr th {\n",
       "        vertical-align: top;\n",
       "    }\n",
       "\n",
       "    .dataframe thead th {\n",
       "        text-align: right;\n",
       "    }\n",
       "</style>\n",
       "<table border=\"1\" class=\"dataframe\">\n",
       "  <thead>\n",
       "    <tr style=\"text-align: right;\">\n",
       "      <th></th>\n",
       "      <th>CustID</th>\n",
       "      <th>City</th>\n",
       "      <th>Num_Games</th>\n",
       "      <th>Avg_Seats</th>\n",
       "      <th>Tot_Sales</th>\n",
       "      <th>Income</th>\n",
       "      <th>Fan Club Member</th>\n",
       "      <th>Automobile</th>\n",
       "      <th>Subscription</th>\n",
       "      <th>new_year</th>\n",
       "      <th>current_data</th>\n",
       "      <th>Recency</th>\n",
       "    </tr>\n",
       "  </thead>\n",
       "  <tbody>\n",
       "    <tr>\n",
       "      <th>0</th>\n",
       "      <td>1</td>\n",
       "      <td>London</td>\n",
       "      <td>3</td>\n",
       "      <td>3</td>\n",
       "      <td>630</td>\n",
       "      <td>57819.0</td>\n",
       "      <td>0.0</td>\n",
       "      <td>1.0</td>\n",
       "      <td>Free Press</td>\n",
       "      <td>2001-02-01</td>\n",
       "      <td>2001-12-02</td>\n",
       "      <td>304</td>\n",
       "    </tr>\n",
       "    <tr>\n",
       "      <th>1</th>\n",
       "      <td>2</td>\n",
       "      <td>London</td>\n",
       "      <td>1</td>\n",
       "      <td>2</td>\n",
       "      <td>140</td>\n",
       "      <td>71938.0</td>\n",
       "      <td>0.0</td>\n",
       "      <td>1.0</td>\n",
       "      <td>NaN</td>\n",
       "      <td>2000-09-01</td>\n",
       "      <td>2001-12-02</td>\n",
       "      <td>457</td>\n",
       "    </tr>\n",
       "    <tr>\n",
       "      <th>2</th>\n",
       "      <td>3</td>\n",
       "      <td>London</td>\n",
       "      <td>1</td>\n",
       "      <td>2</td>\n",
       "      <td>50</td>\n",
       "      <td>23891.0</td>\n",
       "      <td>0.0</td>\n",
       "      <td>1.0</td>\n",
       "      <td>NaN</td>\n",
       "      <td>2001-10-01</td>\n",
       "      <td>2001-12-02</td>\n",
       "      <td>62</td>\n",
       "    </tr>\n",
       "  </tbody>\n",
       "</table>\n",
       "</div>"
      ],
      "text/plain": [
       "   CustID    City  Num_Games  Avg_Seats  Tot_Sales   Income  Fan Club Member  \\\n",
       "0       1  London          3          3        630  57819.0              0.0   \n",
       "1       2  London          1          2        140  71938.0              0.0   \n",
       "2       3  London          1          2         50  23891.0              0.0   \n",
       "\n",
       "   Automobile Subscription   new_year current_data  Recency  \n",
       "0         1.0   Free Press 2001-02-01   2001-12-02      304  \n",
       "1         1.0          NaN 2000-09-01   2001-12-02      457  \n",
       "2         1.0          NaN 2001-10-01   2001-12-02       62  "
      ]
     },
     "execution_count": 31,
     "metadata": {},
     "output_type": "execute_result"
    }
   ],
   "source": [
    "data.head(3)"
   ]
  },
  {
   "cell_type": "code",
   "execution_count": 32,
   "id": "d7947ee0",
   "metadata": {},
   "outputs": [],
   "source": [
    "data['frequency']=data['Num_Games']*data['Avg_Seats']"
   ]
  },
  {
   "cell_type": "code",
   "execution_count": 33,
   "id": "fe529eee",
   "metadata": {},
   "outputs": [
    {
     "data": {
      "text/html": [
       "<div>\n",
       "<style scoped>\n",
       "    .dataframe tbody tr th:only-of-type {\n",
       "        vertical-align: middle;\n",
       "    }\n",
       "\n",
       "    .dataframe tbody tr th {\n",
       "        vertical-align: top;\n",
       "    }\n",
       "\n",
       "    .dataframe thead th {\n",
       "        text-align: right;\n",
       "    }\n",
       "</style>\n",
       "<table border=\"1\" class=\"dataframe\">\n",
       "  <thead>\n",
       "    <tr style=\"text-align: right;\">\n",
       "      <th></th>\n",
       "      <th>CustID</th>\n",
       "      <th>City</th>\n",
       "      <th>Num_Games</th>\n",
       "      <th>Avg_Seats</th>\n",
       "      <th>Tot_Sales</th>\n",
       "      <th>Income</th>\n",
       "      <th>Fan Club Member</th>\n",
       "      <th>Automobile</th>\n",
       "      <th>Subscription</th>\n",
       "      <th>new_year</th>\n",
       "      <th>current_data</th>\n",
       "      <th>Recency</th>\n",
       "      <th>frequency</th>\n",
       "    </tr>\n",
       "  </thead>\n",
       "  <tbody>\n",
       "    <tr>\n",
       "      <th>0</th>\n",
       "      <td>1</td>\n",
       "      <td>London</td>\n",
       "      <td>3</td>\n",
       "      <td>3</td>\n",
       "      <td>630</td>\n",
       "      <td>57819.0</td>\n",
       "      <td>0.0</td>\n",
       "      <td>1.0</td>\n",
       "      <td>Free Press</td>\n",
       "      <td>2001-02-01</td>\n",
       "      <td>2001-12-02</td>\n",
       "      <td>304</td>\n",
       "      <td>9</td>\n",
       "    </tr>\n",
       "    <tr>\n",
       "      <th>1</th>\n",
       "      <td>2</td>\n",
       "      <td>London</td>\n",
       "      <td>1</td>\n",
       "      <td>2</td>\n",
       "      <td>140</td>\n",
       "      <td>71938.0</td>\n",
       "      <td>0.0</td>\n",
       "      <td>1.0</td>\n",
       "      <td>NaN</td>\n",
       "      <td>2000-09-01</td>\n",
       "      <td>2001-12-02</td>\n",
       "      <td>457</td>\n",
       "      <td>2</td>\n",
       "    </tr>\n",
       "    <tr>\n",
       "      <th>2</th>\n",
       "      <td>3</td>\n",
       "      <td>London</td>\n",
       "      <td>1</td>\n",
       "      <td>2</td>\n",
       "      <td>50</td>\n",
       "      <td>23891.0</td>\n",
       "      <td>0.0</td>\n",
       "      <td>1.0</td>\n",
       "      <td>NaN</td>\n",
       "      <td>2001-10-01</td>\n",
       "      <td>2001-12-02</td>\n",
       "      <td>62</td>\n",
       "      <td>2</td>\n",
       "    </tr>\n",
       "  </tbody>\n",
       "</table>\n",
       "</div>"
      ],
      "text/plain": [
       "   CustID    City  Num_Games  Avg_Seats  Tot_Sales   Income  Fan Club Member  \\\n",
       "0       1  London          3          3        630  57819.0              0.0   \n",
       "1       2  London          1          2        140  71938.0              0.0   \n",
       "2       3  London          1          2         50  23891.0              0.0   \n",
       "\n",
       "   Automobile Subscription   new_year current_data  Recency  frequency  \n",
       "0         1.0   Free Press 2001-02-01   2001-12-02      304          9  \n",
       "1         1.0          NaN 2000-09-01   2001-12-02      457          2  \n",
       "2         1.0          NaN 2001-10-01   2001-12-02       62          2  "
      ]
     },
     "execution_count": 33,
     "metadata": {},
     "output_type": "execute_result"
    }
   ],
   "source": [
    "data.head(3)"
   ]
  },
  {
   "cell_type": "code",
   "execution_count": 34,
   "id": "933a46ae",
   "metadata": {},
   "outputs": [],
   "source": [
    "data['Monetary']=data['Tot_Sales']"
   ]
  },
  {
   "cell_type": "code",
   "execution_count": 35,
   "id": "f4fd04fc",
   "metadata": {},
   "outputs": [
    {
     "data": {
      "text/html": [
       "<div>\n",
       "<style scoped>\n",
       "    .dataframe tbody tr th:only-of-type {\n",
       "        vertical-align: middle;\n",
       "    }\n",
       "\n",
       "    .dataframe tbody tr th {\n",
       "        vertical-align: top;\n",
       "    }\n",
       "\n",
       "    .dataframe thead th {\n",
       "        text-align: right;\n",
       "    }\n",
       "</style>\n",
       "<table border=\"1\" class=\"dataframe\">\n",
       "  <thead>\n",
       "    <tr style=\"text-align: right;\">\n",
       "      <th></th>\n",
       "      <th>index</th>\n",
       "      <th>CustID</th>\n",
       "      <th>City</th>\n",
       "      <th>Num_Games</th>\n",
       "      <th>Avg_Seats</th>\n",
       "      <th>Tot_Sales</th>\n",
       "      <th>Income</th>\n",
       "      <th>Fan Club Member</th>\n",
       "      <th>Automobile</th>\n",
       "      <th>Subscription</th>\n",
       "      <th>new_year</th>\n",
       "      <th>current_data</th>\n",
       "      <th>Recency</th>\n",
       "      <th>frequency</th>\n",
       "      <th>Monetary</th>\n",
       "    </tr>\n",
       "  </thead>\n",
       "  <tbody>\n",
       "    <tr>\n",
       "      <th>0</th>\n",
       "      <td>0</td>\n",
       "      <td>1</td>\n",
       "      <td>London</td>\n",
       "      <td>3</td>\n",
       "      <td>3</td>\n",
       "      <td>630</td>\n",
       "      <td>57819.0</td>\n",
       "      <td>0.0</td>\n",
       "      <td>1.0</td>\n",
       "      <td>Free Press</td>\n",
       "      <td>2001-02-01</td>\n",
       "      <td>2001-12-02</td>\n",
       "      <td>304</td>\n",
       "      <td>9</td>\n",
       "      <td>630</td>\n",
       "    </tr>\n",
       "    <tr>\n",
       "      <th>1</th>\n",
       "      <td>1</td>\n",
       "      <td>2</td>\n",
       "      <td>London</td>\n",
       "      <td>1</td>\n",
       "      <td>2</td>\n",
       "      <td>140</td>\n",
       "      <td>71938.0</td>\n",
       "      <td>0.0</td>\n",
       "      <td>1.0</td>\n",
       "      <td>NaN</td>\n",
       "      <td>2000-09-01</td>\n",
       "      <td>2001-12-02</td>\n",
       "      <td>457</td>\n",
       "      <td>2</td>\n",
       "      <td>140</td>\n",
       "    </tr>\n",
       "    <tr>\n",
       "      <th>2</th>\n",
       "      <td>2</td>\n",
       "      <td>3</td>\n",
       "      <td>London</td>\n",
       "      <td>1</td>\n",
       "      <td>2</td>\n",
       "      <td>50</td>\n",
       "      <td>23891.0</td>\n",
       "      <td>0.0</td>\n",
       "      <td>1.0</td>\n",
       "      <td>NaN</td>\n",
       "      <td>2001-10-01</td>\n",
       "      <td>2001-12-02</td>\n",
       "      <td>62</td>\n",
       "      <td>2</td>\n",
       "      <td>50</td>\n",
       "    </tr>\n",
       "    <tr>\n",
       "      <th>3</th>\n",
       "      <td>3</td>\n",
       "      <td>4</td>\n",
       "      <td>London</td>\n",
       "      <td>1</td>\n",
       "      <td>3</td>\n",
       "      <td>75</td>\n",
       "      <td>37231.0</td>\n",
       "      <td>0.0</td>\n",
       "      <td>0.0</td>\n",
       "      <td>NaN</td>\n",
       "      <td>2001-09-01</td>\n",
       "      <td>2001-12-02</td>\n",
       "      <td>92</td>\n",
       "      <td>3</td>\n",
       "      <td>75</td>\n",
       "    </tr>\n",
       "    <tr>\n",
       "      <th>4</th>\n",
       "      <td>4</td>\n",
       "      <td>5</td>\n",
       "      <td>London</td>\n",
       "      <td>3</td>\n",
       "      <td>4</td>\n",
       "      <td>660</td>\n",
       "      <td>NaN</td>\n",
       "      <td>NaN</td>\n",
       "      <td>NaN</td>\n",
       "      <td>NaN</td>\n",
       "      <td>1998-10-01</td>\n",
       "      <td>2001-12-02</td>\n",
       "      <td>1158</td>\n",
       "      <td>12</td>\n",
       "      <td>660</td>\n",
       "    </tr>\n",
       "  </tbody>\n",
       "</table>\n",
       "</div>"
      ],
      "text/plain": [
       "   index  CustID    City  Num_Games  Avg_Seats  Tot_Sales   Income  \\\n",
       "0      0       1  London          3          3        630  57819.0   \n",
       "1      1       2  London          1          2        140  71938.0   \n",
       "2      2       3  London          1          2         50  23891.0   \n",
       "3      3       4  London          1          3         75  37231.0   \n",
       "4      4       5  London          3          4        660      NaN   \n",
       "\n",
       "   Fan Club Member  Automobile Subscription   new_year current_data  Recency  \\\n",
       "0              0.0         1.0   Free Press 2001-02-01   2001-12-02      304   \n",
       "1              0.0         1.0          NaN 2000-09-01   2001-12-02      457   \n",
       "2              0.0         1.0          NaN 2001-10-01   2001-12-02       62   \n",
       "3              0.0         0.0          NaN 2001-09-01   2001-12-02       92   \n",
       "4              NaN         NaN          NaN 1998-10-01   2001-12-02     1158   \n",
       "\n",
       "   frequency  Monetary  \n",
       "0          9       630  \n",
       "1          2       140  \n",
       "2          2        50  \n",
       "3          3        75  \n",
       "4         12       660  "
      ]
     },
     "execution_count": 35,
     "metadata": {},
     "output_type": "execute_result"
    }
   ],
   "source": [
    "data.reset_index().head()"
   ]
  },
  {
   "cell_type": "code",
   "execution_count": 36,
   "id": "7455349a",
   "metadata": {},
   "outputs": [],
   "source": [
    "RFM=data[['CustID','Recency','frequency','Monetary']]"
   ]
  },
  {
   "cell_type": "code",
   "execution_count": 37,
   "id": "fa1849c8",
   "metadata": {},
   "outputs": [
    {
     "data": {
      "text/plain": [
       "count    2857.000000\n",
       "mean      555.070354\n",
       "std       408.971182\n",
       "min         1.000000\n",
       "25%       215.000000\n",
       "50%       457.000000\n",
       "75%       854.000000\n",
       "max      1431.000000\n",
       "Name: Recency, dtype: float64"
      ]
     },
     "execution_count": 37,
     "metadata": {},
     "output_type": "execute_result"
    }
   ],
   "source": [
    "RFM.Recency.describe()"
   ]
  },
  {
   "cell_type": "code",
   "execution_count": 38,
   "id": "efb59899",
   "metadata": {},
   "outputs": [
    {
     "name": "stderr",
     "output_type": "stream",
     "text": [
      "C:\\Users\\User\\anaconda3\\lib\\site-packages\\seaborn\\distributions.py:2619: FutureWarning: `distplot` is a deprecated function and will be removed in a future version. Please adapt your code to use either `displot` (a figure-level function with similar flexibility) or `histplot` (an axes-level function for histograms).\n",
      "  warnings.warn(msg, FutureWarning)\n"
     ]
    },
    {
     "data": {
      "image/png": "[encoded data removed]",
      "text/plain": [
       "<Figure size 432x288 with 1 Axes>"
      ]
     },
     "metadata": {
      "needs_background": "light"
     },
     "output_type": "display_data"
    }
   ],
   "source": [
    "import seaborn as sns\n",
    "x=RFM['Recency']\n",
    "ax=sns.distplot(x)"
   ]
  },
  {
   "cell_type": "code",
   "execution_count": 39,
   "id": "2e067999",
   "metadata": {},
   "outputs": [
    {
     "data": {
      "text/plain": [
       "count    2857.000000\n",
       "mean        9.765488\n",
       "std         7.347013\n",
       "min         1.000000\n",
       "25%         4.000000\n",
       "50%         8.000000\n",
       "75%        14.000000\n",
       "max        72.000000\n",
       "Name: frequency, dtype: float64"
      ]
     },
     "execution_count": 39,
     "metadata": {},
     "output_type": "execute_result"
    }
   ],
   "source": [
    "RFM.frequency.describe() "
   ]
  },
  {
   "cell_type": "code",
   "execution_count": 40,
   "id": "30359274",
   "metadata": {},
   "outputs": [
    {
     "name": "stderr",
     "output_type": "stream",
     "text": [
      "C:\\Users\\User\\anaconda3\\lib\\site-packages\\seaborn\\distributions.py:2619: FutureWarning: `distplot` is a deprecated function and will be removed in a future version. Please adapt your code to use either `displot` (a figure-level function with similar flexibility) or `histplot` (an axes-level function for histograms).\n",
      "  warnings.warn(msg, FutureWarning)\n"
     ]
    },
    {
     "data": {
      "image/png": "[encoded data removed]",
      "text/plain": [
       "<Figure size 432x288 with 1 Axes>"
      ]
     },
     "metadata": {
      "needs_background": "light"
     },
     "output_type": "display_data"
    }
   ],
   "source": [
    "x=RFM['frequency']\n",
    "ax=sns.distplot(x)"
   ]
  },
  {
   "cell_type": "code",
   "execution_count": 41,
   "id": "a9818511",
   "metadata": {},
   "outputs": [
    {
     "data": {
      "text/plain": [
       "count    2857.00000\n",
       "mean      470.60203\n",
       "std       406.50127\n",
       "min        25.00000\n",
       "25%       175.00000\n",
       "50%       350.00000\n",
       "75%       640.00000\n",
       "max      4410.00000\n",
       "Name: Monetary, dtype: float64"
      ]
     },
     "execution_count": 41,
     "metadata": {},
     "output_type": "execute_result"
    }
   ],
   "source": [
    "RFM.Monetary.describe() "
   ]
  },
  {
   "cell_type": "code",
   "execution_count": 42,
   "id": "a48a3ea6",
   "metadata": {},
   "outputs": [
    {
     "name": "stderr",
     "output_type": "stream",
     "text": [
      "C:\\Users\\User\\anaconda3\\lib\\site-packages\\seaborn\\distributions.py:2619: FutureWarning: `distplot` is a deprecated function and will be removed in a future version. Please adapt your code to use either `displot` (a figure-level function with similar flexibility) or `histplot` (an axes-level function for histograms).\n",
      "  warnings.warn(msg, FutureWarning)\n"
     ]
    },
    {
     "data": {
      "image/png": "[encoded data removed]",
      "text/plain": [
       "<Figure size 432x288 with 1 Axes>"
      ]
     },
     "metadata": {
      "needs_background": "light"
     },
     "output_type": "display_data"
    }
   ],
   "source": [
    "x=RFM['Monetary']\n",
    "ax=sns.distplot(x)"
   ]
  },
  {
   "cell_type": "code",
   "execution_count": 43,
   "id": "32edf0c5",
   "metadata": {},
   "outputs": [
    {
     "data": {
      "text/plain": [
       "Index(['CustID', 'Recency', 'frequency', 'Monetary'], dtype='object')"
      ]
     },
     "execution_count": 43,
     "metadata": {},
     "output_type": "execute_result"
    }
   ],
   "source": [
    "RFM.columns"
   ]
  },
  {
   "cell_type": "code",
   "execution_count": 44,
   "id": "9273b69d",
   "metadata": {},
   "outputs": [
    {
     "name": "stderr",
     "output_type": "stream",
     "text": [
      "C:\\Users\\User\\AppData\\Local\\Temp/ipykernel_16732/1251791386.py:1: SettingWithCopyWarning: \n",
      "A value is trying to be set on a copy of a slice from a DataFrame.\n",
      "Try using .loc[row_indexer,col_indexer] = value instead\n",
      "\n",
      "See the caveats in the documentation: https://pandas.pydata.org/pandas-docs/stable/user_guide/indexing.html#returning-a-view-versus-a-copy\n",
      "  RFM['R_rank'] = RFM['Recency'].rank(ascending=False)\n",
      "C:\\Users\\User\\AppData\\Local\\Temp/ipykernel_16732/1251791386.py:2: SettingWithCopyWarning: \n",
      "A value is trying to be set on a copy of a slice from a DataFrame.\n",
      "Try using .loc[row_indexer,col_indexer] = value instead\n",
      "\n",
      "See the caveats in the documentation: https://pandas.pydata.org/pandas-docs/stable/user_guide/indexing.html#returning-a-view-versus-a-copy\n",
      "  RFM['F_rank'] = RFM['frequency'].rank(ascending=True)\n",
      "C:\\Users\\User\\AppData\\Local\\Temp/ipykernel_16732/1251791386.py:3: SettingWithCopyWarning: \n",
      "A value is trying to be set on a copy of a slice from a DataFrame.\n",
      "Try using .loc[row_indexer,col_indexer] = value instead\n",
      "\n",
      "See the caveats in the documentation: https://pandas.pydata.org/pandas-docs/stable/user_guide/indexing.html#returning-a-view-versus-a-copy\n",
      "  RFM['M_rank'] = RFM['Monetary'].rank(ascending=True)\n"
     ]
    }
   ],
   "source": [
    "RFM['R_rank'] = RFM['Recency'].rank(ascending=False)\n",
    "RFM['F_rank'] = RFM['frequency'].rank(ascending=True)\n",
    "RFM['M_rank'] = RFM['Monetary'].rank(ascending=True)"
   ]
  },
  {
   "cell_type": "code",
   "execution_count": 45,
   "id": "3ff00b14",
   "metadata": {},
   "outputs": [
    {
     "name": "stderr",
     "output_type": "stream",
     "text": [
      "C:\\Users\\User\\AppData\\Local\\Temp/ipykernel_16732/4472617.py:1: SettingWithCopyWarning: \n",
      "A value is trying to be set on a copy of a slice from a DataFrame.\n",
      "Try using .loc[row_indexer,col_indexer] = value instead\n",
      "\n",
      "See the caveats in the documentation: https://pandas.pydata.org/pandas-docs/stable/user_guide/indexing.html#returning-a-view-versus-a-copy\n",
      "  RFM['R_rank_norm'] = (RFM['R_rank']/RFM['R_rank'].max())*100\n",
      "C:\\Users\\User\\AppData\\Local\\Temp/ipykernel_16732/4472617.py:2: SettingWithCopyWarning: \n",
      "A value is trying to be set on a copy of a slice from a DataFrame.\n",
      "Try using .loc[row_indexer,col_indexer] = value instead\n",
      "\n",
      "See the caveats in the documentation: https://pandas.pydata.org/pandas-docs/stable/user_guide/indexing.html#returning-a-view-versus-a-copy\n",
      "  RFM['F_rank_norm'] = (RFM['F_rank']/RFM['F_rank'].max())*100\n",
      "C:\\Users\\User\\AppData\\Local\\Temp/ipykernel_16732/4472617.py:3: SettingWithCopyWarning: \n",
      "A value is trying to be set on a copy of a slice from a DataFrame.\n",
      "Try using .loc[row_indexer,col_indexer] = value instead\n",
      "\n",
      "See the caveats in the documentation: https://pandas.pydata.org/pandas-docs/stable/user_guide/indexing.html#returning-a-view-versus-a-copy\n",
      "  RFM['M_rank_norm'] = (RFM['F_rank']/RFM['M_rank'].max())*100\n",
      "C:\\Users\\User\\anaconda3\\lib\\site-packages\\pandas\\core\\frame.py:4906: SettingWithCopyWarning: \n",
      "A value is trying to be set on a copy of a slice from a DataFrame\n",
      "\n",
      "See the caveats in the documentation: https://pandas.pydata.org/pandas-docs/stable/user_guide/indexing.html#returning-a-view-versus-a-copy\n",
      "  return super().drop(\n"
     ]
    },
    {
     "data": {
      "text/html": [
       "<div>\n",
       "<style scoped>\n",
       "    .dataframe tbody tr th:only-of-type {\n",
       "        vertical-align: middle;\n",
       "    }\n",
       "\n",
       "    .dataframe tbody tr th {\n",
       "        vertical-align: top;\n",
       "    }\n",
       "\n",
       "    .dataframe thead th {\n",
       "        text-align: right;\n",
       "    }\n",
       "</style>\n",
       "<table border=\"1\" class=\"dataframe\">\n",
       "  <thead>\n",
       "    <tr style=\"text-align: right;\">\n",
       "      <th></th>\n",
       "      <th>CustID</th>\n",
       "      <th>Recency</th>\n",
       "      <th>frequency</th>\n",
       "      <th>Monetary</th>\n",
       "      <th>R_rank_norm</th>\n",
       "      <th>F_rank_norm</th>\n",
       "      <th>M_rank_norm</th>\n",
       "    </tr>\n",
       "  </thead>\n",
       "  <tbody>\n",
       "    <tr>\n",
       "      <th>0</th>\n",
       "      <td>1</td>\n",
       "      <td>304</td>\n",
       "      <td>9</td>\n",
       "      <td>630</td>\n",
       "      <td>66.524293</td>\n",
       "      <td>56.037802</td>\n",
       "      <td>56.037802</td>\n",
       "    </tr>\n",
       "    <tr>\n",
       "      <th>1</th>\n",
       "      <td>2</td>\n",
       "      <td>457</td>\n",
       "      <td>2</td>\n",
       "      <td>140</td>\n",
       "      <td>51.503826</td>\n",
       "      <td>6.177809</td>\n",
       "      <td>6.177809</td>\n",
       "    </tr>\n",
       "    <tr>\n",
       "      <th>2</th>\n",
       "      <td>3</td>\n",
       "      <td>62</td>\n",
       "      <td>2</td>\n",
       "      <td>50</td>\n",
       "      <td>93.949101</td>\n",
       "      <td>6.177809</td>\n",
       "      <td>6.177809</td>\n",
       "    </tr>\n",
       "    <tr>\n",
       "      <th>3</th>\n",
       "      <td>4</td>\n",
       "      <td>92</td>\n",
       "      <td>3</td>\n",
       "      <td>75</td>\n",
       "      <td>90.425343</td>\n",
       "      <td>14.263213</td>\n",
       "      <td>14.263213</td>\n",
       "    </tr>\n",
       "    <tr>\n",
       "      <th>4</th>\n",
       "      <td>5</td>\n",
       "      <td>1158</td>\n",
       "      <td>12</td>\n",
       "      <td>660</td>\n",
       "      <td>12.813668</td>\n",
       "      <td>69.740987</td>\n",
       "      <td>69.740987</td>\n",
       "    </tr>\n",
       "  </tbody>\n",
       "</table>\n",
       "</div>"
      ],
      "text/plain": [
       "   CustID  Recency  frequency  Monetary  R_rank_norm  F_rank_norm  M_rank_norm\n",
       "0       1      304          9       630    66.524293    56.037802    56.037802\n",
       "1       2      457          2       140    51.503826     6.177809     6.177809\n",
       "2       3       62          2        50    93.949101     6.177809     6.177809\n",
       "3       4       92          3        75    90.425343    14.263213    14.263213\n",
       "4       5     1158         12       660    12.813668    69.740987    69.740987"
      ]
     },
     "execution_count": 45,
     "metadata": {},
     "output_type": "execute_result"
    }
   ],
   "source": [
    "RFM['R_rank_norm'] = (RFM['R_rank']/RFM['R_rank'].max())*100\n",
    "RFM['F_rank_norm'] = (RFM['F_rank']/RFM['F_rank'].max())*100\n",
    "RFM['M_rank_norm'] = (RFM['F_rank']/RFM['M_rank'].max())*100\n",
    " \n",
    "RFM.drop(columns=['R_rank', 'F_rank', 'M_rank'], inplace=True)\n",
    " \n",
    "RFM.head()"
   ]
  },
  {
   "cell_type": "code",
   "execution_count": 46,
   "id": "a5b9f380",
   "metadata": {},
   "outputs": [
    {
     "name": "stderr",
     "output_type": "stream",
     "text": [
      "C:\\Users\\User\\AppData\\Local\\Temp/ipykernel_16732/1577273932.py:1: SettingWithCopyWarning: \n",
      "A value is trying to be set on a copy of a slice from a DataFrame.\n",
      "Try using .loc[row_indexer,col_indexer] = value instead\n",
      "\n",
      "See the caveats in the documentation: https://pandas.pydata.org/pandas-docs/stable/user_guide/indexing.html#returning-a-view-versus-a-copy\n",
      "  RFM['RFM_Score'] = 0.15*RFM['R_rank_norm']+0.28 * \\\n",
      "C:\\Users\\User\\AppData\\Local\\Temp/ipykernel_16732/1577273932.py:3: SettingWithCopyWarning: \n",
      "A value is trying to be set on a copy of a slice from a DataFrame.\n",
      "Try using .loc[row_indexer,col_indexer] = value instead\n",
      "\n",
      "See the caveats in the documentation: https://pandas.pydata.org/pandas-docs/stable/user_guide/indexing.html#returning-a-view-versus-a-copy\n",
      "  RFM['RFM_Score'] *= 0.05\n"
     ]
    },
    {
     "data": {
      "text/html": [
       "<div>\n",
       "<style scoped>\n",
       "    .dataframe tbody tr th:only-of-type {\n",
       "        vertical-align: middle;\n",
       "    }\n",
       "\n",
       "    .dataframe tbody tr th {\n",
       "        vertical-align: top;\n",
       "    }\n",
       "\n",
       "    .dataframe thead th {\n",
       "        text-align: right;\n",
       "    }\n",
       "</style>\n",
       "<table border=\"1\" class=\"dataframe\">\n",
       "  <thead>\n",
       "    <tr style=\"text-align: right;\">\n",
       "      <th></th>\n",
       "      <th>CustID</th>\n",
       "      <th>RFM_Score</th>\n",
       "    </tr>\n",
       "  </thead>\n",
       "  <tbody>\n",
       "    <tr>\n",
       "      <th>0</th>\n",
       "      <td>1</td>\n",
       "      <td>2.88</td>\n",
       "    </tr>\n",
       "    <tr>\n",
       "      <th>1</th>\n",
       "      <td>2</td>\n",
       "      <td>0.65</td>\n",
       "    </tr>\n",
       "    <tr>\n",
       "      <th>2</th>\n",
       "      <td>3</td>\n",
       "      <td>0.97</td>\n",
       "    </tr>\n",
       "    <tr>\n",
       "      <th>3</th>\n",
       "      <td>4</td>\n",
       "      <td>1.28</td>\n",
       "    </tr>\n",
       "    <tr>\n",
       "      <th>4</th>\n",
       "      <td>5</td>\n",
       "      <td>3.06</td>\n",
       "    </tr>\n",
       "    <tr>\n",
       "      <th>5</th>\n",
       "      <td>6</td>\n",
       "      <td>1.23</td>\n",
       "    </tr>\n",
       "    <tr>\n",
       "      <th>6</th>\n",
       "      <td>7</td>\n",
       "      <td>1.63</td>\n",
       "    </tr>\n",
       "  </tbody>\n",
       "</table>\n",
       "</div>"
      ],
      "text/plain": [
       "   CustID  RFM_Score\n",
       "0       1       2.88\n",
       "1       2       0.65\n",
       "2       3       0.97\n",
       "3       4       1.28\n",
       "4       5       3.06\n",
       "5       6       1.23\n",
       "6       7       1.63"
      ]
     },
     "execution_count": 46,
     "metadata": {},
     "output_type": "execute_result"
    }
   ],
   "source": [
    "RFM['RFM_Score'] = 0.15*RFM['R_rank_norm']+0.28 * \\\n",
    "    RFM['F_rank_norm']+0.57*RFM['M_rank_norm']\n",
    "RFM['RFM_Score'] *= 0.05\n",
    "RFM=RFM.round(2)\n",
    "RFM[['CustID', 'RFM_Score']].head(7)"
   ]
  },
  {
   "cell_type": "markdown",
   "id": "aebe5eea",
   "metadata": {},
   "source": [
    "# Rating Customer based upon the RFM score\n",
    "rfm score >4.5 : Top Customer\n",
    "\n",
    "4.5 > rfm score > 4 : High Value Customer\n",
    "\n",
    "4>rfm score >3 : Medium value customer\n",
    "\n",
    "3>rfm score>1.6 : Low-value customer\n",
    "\n",
    "rfm score<1.6 :Lost Customer"
   ]
  },
  {
   "cell_type": "code",
   "execution_count": 47,
   "id": "634fa18c",
   "metadata": {},
   "outputs": [
    {
     "data": {
      "text/html": [
       "<div>\n",
       "<style scoped>\n",
       "    .dataframe tbody tr th:only-of-type {\n",
       "        vertical-align: middle;\n",
       "    }\n",
       "\n",
       "    .dataframe tbody tr th {\n",
       "        vertical-align: top;\n",
       "    }\n",
       "\n",
       "    .dataframe thead th {\n",
       "        text-align: right;\n",
       "    }\n",
       "</style>\n",
       "<table border=\"1\" class=\"dataframe\">\n",
       "  <thead>\n",
       "    <tr style=\"text-align: right;\">\n",
       "      <th></th>\n",
       "      <th>CustID</th>\n",
       "      <th>RFM_Score</th>\n",
       "      <th>Customer_segment</th>\n",
       "    </tr>\n",
       "  </thead>\n",
       "  <tbody>\n",
       "    <tr>\n",
       "      <th>0</th>\n",
       "      <td>1</td>\n",
       "      <td>2.88</td>\n",
       "      <td>Low Value Customers</td>\n",
       "    </tr>\n",
       "    <tr>\n",
       "      <th>1</th>\n",
       "      <td>2</td>\n",
       "      <td>0.65</td>\n",
       "      <td>Lost Customers</td>\n",
       "    </tr>\n",
       "    <tr>\n",
       "      <th>2</th>\n",
       "      <td>3</td>\n",
       "      <td>0.97</td>\n",
       "      <td>Lost Customers</td>\n",
       "    </tr>\n",
       "    <tr>\n",
       "      <th>3</th>\n",
       "      <td>4</td>\n",
       "      <td>1.28</td>\n",
       "      <td>Lost Customers</td>\n",
       "    </tr>\n",
       "    <tr>\n",
       "      <th>4</th>\n",
       "      <td>5</td>\n",
       "      <td>3.06</td>\n",
       "      <td>Medium Value Customer</td>\n",
       "    </tr>\n",
       "    <tr>\n",
       "      <th>5</th>\n",
       "      <td>6</td>\n",
       "      <td>1.23</td>\n",
       "      <td>Lost Customers</td>\n",
       "    </tr>\n",
       "    <tr>\n",
       "      <th>6</th>\n",
       "      <td>7</td>\n",
       "      <td>1.63</td>\n",
       "      <td>Low Value Customers</td>\n",
       "    </tr>\n",
       "    <tr>\n",
       "      <th>7</th>\n",
       "      <td>8</td>\n",
       "      <td>3.29</td>\n",
       "      <td>Medium Value Customer</td>\n",
       "    </tr>\n",
       "    <tr>\n",
       "      <th>8</th>\n",
       "      <td>9</td>\n",
       "      <td>2.04</td>\n",
       "      <td>Low Value Customers</td>\n",
       "    </tr>\n",
       "    <tr>\n",
       "      <th>9</th>\n",
       "      <td>10</td>\n",
       "      <td>3.48</td>\n",
       "      <td>Medium Value Customer</td>\n",
       "    </tr>\n",
       "    <tr>\n",
       "      <th>10</th>\n",
       "      <td>11</td>\n",
       "      <td>1.29</td>\n",
       "      <td>Lost Customers</td>\n",
       "    </tr>\n",
       "    <tr>\n",
       "      <th>11</th>\n",
       "      <td>12</td>\n",
       "      <td>1.42</td>\n",
       "      <td>Lost Customers</td>\n",
       "    </tr>\n",
       "    <tr>\n",
       "      <th>12</th>\n",
       "      <td>13</td>\n",
       "      <td>2.21</td>\n",
       "      <td>Low Value Customers</td>\n",
       "    </tr>\n",
       "    <tr>\n",
       "      <th>13</th>\n",
       "      <td>14</td>\n",
       "      <td>1.26</td>\n",
       "      <td>Lost Customers</td>\n",
       "    </tr>\n",
       "    <tr>\n",
       "      <th>14</th>\n",
       "      <td>15</td>\n",
       "      <td>4.19</td>\n",
       "      <td>High value Customer</td>\n",
       "    </tr>\n",
       "    <tr>\n",
       "      <th>15</th>\n",
       "      <td>16</td>\n",
       "      <td>3.02</td>\n",
       "      <td>Medium Value Customer</td>\n",
       "    </tr>\n",
       "    <tr>\n",
       "      <th>16</th>\n",
       "      <td>17</td>\n",
       "      <td>0.52</td>\n",
       "      <td>Lost Customers</td>\n",
       "    </tr>\n",
       "    <tr>\n",
       "      <th>17</th>\n",
       "      <td>18</td>\n",
       "      <td>3.57</td>\n",
       "      <td>Medium Value Customer</td>\n",
       "    </tr>\n",
       "    <tr>\n",
       "      <th>18</th>\n",
       "      <td>19</td>\n",
       "      <td>3.59</td>\n",
       "      <td>Medium Value Customer</td>\n",
       "    </tr>\n",
       "    <tr>\n",
       "      <th>19</th>\n",
       "      <td>20</td>\n",
       "      <td>0.67</td>\n",
       "      <td>Lost Customers</td>\n",
       "    </tr>\n",
       "  </tbody>\n",
       "</table>\n",
       "</div>"
      ],
      "text/plain": [
       "    CustID  RFM_Score       Customer_segment\n",
       "0        1       2.88    Low Value Customers\n",
       "1        2       0.65         Lost Customers\n",
       "2        3       0.97         Lost Customers\n",
       "3        4       1.28         Lost Customers\n",
       "4        5       3.06  Medium Value Customer\n",
       "5        6       1.23         Lost Customers\n",
       "6        7       1.63    Low Value Customers\n",
       "7        8       3.29  Medium Value Customer\n",
       "8        9       2.04    Low Value Customers\n",
       "9       10       3.48  Medium Value Customer\n",
       "10      11       1.29         Lost Customers\n",
       "11      12       1.42         Lost Customers\n",
       "12      13       2.21    Low Value Customers\n",
       "13      14       1.26         Lost Customers\n",
       "14      15       4.19    High value Customer\n",
       "15      16       3.02  Medium Value Customer\n",
       "16      17       0.52         Lost Customers\n",
       "17      18       3.57  Medium Value Customer\n",
       "18      19       3.59  Medium Value Customer\n",
       "19      20       0.67         Lost Customers"
      ]
     },
     "execution_count": 47,
     "metadata": {},
     "output_type": "execute_result"
    }
   ],
   "source": [
    "RFM[\"Customer_segment\"] = np.where(RFM['RFM_Score'] >\n",
    "                                      4.5, \"Top Customers\",\n",
    "                                      (np.where(\n",
    "                                        RFM['RFM_Score'] > 4,\n",
    "                                        \"High value Customer\",\n",
    "                                        (np.where(\n",
    "   RFM['RFM_Score'] > 3,\n",
    "                             \"Medium Value Customer\",\n",
    "                             np.where(RFM['RFM_Score'] > 1.6,\n",
    "                            'Low Value Customers', 'Lost Customers'))))))\n",
    "RFM[['CustID', 'RFM_Score', 'Customer_segment']].head(20)"
   ]
  },
  {
   "cell_type": "code",
   "execution_count": 48,
   "id": "08103a0b",
   "metadata": {},
   "outputs": [
    {
     "data": {
      "image/png": "[encoded data removed]",
      "text/plain": [
       "<Figure size 432x288 with 1 Axes>"
      ]
     },
     "metadata": {},
     "output_type": "display_data"
    }
   ],
   "source": [
    "import matplotlib.pyplot as plt\n",
    "plt.pie(RFM.Customer_segment.value_counts(),\n",
    "        labels=RFM.Customer_segment.value_counts().index,\n",
    "        autopct='%.0f%%')\n",
    "plt.show()"
   ]
  },
  {
   "cell_type": "code",
   "execution_count": null,
   "id": "e022eee3",
   "metadata": {},
   "outputs": [],
   "source": []
  }
 ],
 "metadata": {
  "kernelspec": {
   "display_name": "Python 3 (ipykernel)",
   "language": "python",
   "name": "python3"
  },
  "language_info": {
   "codemirror_mode": {
    "name": "ipython",
    "version": 3
   },
   "file_extension": ".py",
   "mimetype": "text/x-python",
   "name": "python",
   "nbconvert_exporter": "python",
   "pygments_lexer": "ipython3",
   "version": "3.9.7"
  }
 },
 "nbformat": 4,
 "nbformat_minor": 5
}
